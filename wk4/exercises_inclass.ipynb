{
 "cells": [
  {
   "cell_type": "markdown",
   "metadata": {},
   "source": [
    "# Exercises and Examples\n",
    "## Prof. Denis Vrdoljak"
   ]
  },
  {
   "cell_type": "markdown",
   "metadata": {},
   "source": [
    "Write a script/code that calculates the factorial of a number"
   ]
  },
  {
   "cell_type": "code",
   "execution_count": 1,
   "metadata": {},
   "outputs": [
    {
     "name": "stdout",
     "output_type": "stream",
     "text": [
      "40320\n"
     ]
    }
   ],
   "source": [
    "# factorial calculator\n",
    "\n",
    "given_number = 8\n",
    "print(\n",
    "8*7*6*5*4*3*2\n",
    ")"
   ]
  },
  {
   "cell_type": "code",
   "execution_count": 4,
   "metadata": {},
   "outputs": [
    {
     "name": "stdout",
     "output_type": "stream",
     "text": [
      "40320\n"
     ]
    }
   ],
   "source": [
    "# solution 1:\n",
    "# subract one, multiply by original number\n",
    "# subtract another one, multiply into product (which we're keeping track of)\n",
    "# repeat until we hit 1\n",
    "\n",
    "answer = given_number\n",
    "next_number = given_number - 1\n",
    "    \n",
    "while next_number > 1:\n",
    "    next_number = given_number - 1\n",
    "    answer = next_number * answer\n",
    "    given_number = next_number\n",
    "print(answer)"
   ]
  },
  {
   "cell_type": "code",
   "execution_count": 8,
   "metadata": {},
   "outputs": [
    {
     "name": "stdout",
     "output_type": "stream",
     "text": [
      "40320\n"
     ]
    }
   ],
   "source": [
    "# solution 2:\n",
    "# get all numbers between 1 and given number\n",
    "# multiply them together\n",
    "# more specifically:\n",
    "# start with 1, and multiply x to it, up to given_number\n",
    "\n",
    "given_number = 8\n",
    "\n",
    "answer = 1\n",
    "\n",
    "for i in range(1,given_number+1):\n",
    "    answer *= i\n",
    "print(answer)"
   ]
  },
  {
   "cell_type": "markdown",
   "metadata": {},
   "source": [
    "Practice problem from:\n",
    "https://github.com/zhiwehu/Python-programming-exercises/blob/master/100%2B%20Python%20challenging%20programming%20exercises.txt\n"
   ]
  },
  {
   "cell_type": "markdown",
   "metadata": {},
   "source": [
    "Question 4\n",
    "Level 1\n",
    "\n",
    "Question:\n",
    "Write a program which accepts a sequence of comma-separated numbers from console and generate a list and a tuple which contains every number.\n",
    "Suppose the following input is supplied to the program:\n",
    "34,67,55,33,12,98\n",
    "Then, the output should be:\n",
    "['34', '67', '55', '33', '12', '98']\n",
    "('34', '67', '55', '33', '12', '98')\n",
    "\n",
    "Hints:\n",
    "In case of input data being supplied to the question, it should be assumed to be a console input.\n",
    "tuple() method can convert list to tuple\n"
   ]
  },
  {
   "cell_type": "code",
   "execution_count": 12,
   "metadata": {},
   "outputs": [
    {
     "name": "stdout",
     "output_type": "stream",
     "text": [
      "[' 34', '67', '55', '33', '12', '98']\n",
      "(' 34', '67', '55', '33', '12', '98')\n"
     ]
    }
   ],
   "source": [
    "# My solution\n",
    "# Note, I am coming up with this solution because I just looked at WK3HW, so I'm thinking in those terms\n",
    "# There are many possible solutions\n",
    "\n",
    "# split upall inputed numbers, that build a list (append to an empty list) each one, one at a time\n",
    "\n",
    "input_numbers = \" 34,67,55,33,12,98\"\n",
    "output_list = []\n",
    "for number in input_numbers.split(','):\n",
    "    output_list.append(number)\n",
    "\n",
    "# note: if I am not clear on whether the wording of the question is asking for a list or tuple\n",
    "# or both, I can state that here in a comment\n",
    "# and indicate how I interpretted teh problem, and what I intended to impliment\n",
    "\n",
    "# I am outputing both a list, then a tuple, of the solution (based on my reading of the question)\n",
    "print(output_list)\n",
    "print(tuple(output_list))"
   ]
  },
  {
   "cell_type": "code",
   "execution_count": null,
   "metadata": {},
   "outputs": [],
   "source": []
  }
 ],
 "metadata": {
  "kernelspec": {
   "display_name": "Python 3",
   "language": "python",
   "name": "python3"
  },
  "language_info": {
   "codemirror_mode": {
    "name": "ipython",
    "version": 3
   },
   "file_extension": ".py",
   "mimetype": "text/x-python",
   "name": "python",
   "nbconvert_exporter": "python",
   "pygments_lexer": "ipython3",
   "version": "3.7.4"
  }
 },
 "nbformat": 4,
 "nbformat_minor": 2
}
