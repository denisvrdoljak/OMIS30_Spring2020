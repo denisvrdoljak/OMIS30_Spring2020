{
 "cells": [
  {
   "cell_type": "code",
   "execution_count": 66,
   "metadata": {},
   "outputs": [
    {
     "data": {
      "text/plain": [
       "['2', '3', '4', '5', '6', '7', '8', '9', '10', 'J', 'Q', 'K', 'A']"
      ]
     },
     "execution_count": 66,
     "metadata": {},
     "output_type": "execute_result"
    }
   ],
   "source": [
    "facevalues = [str(n) for n in range(2, 11)] + ['J', 'Q', 'K','A']\n",
    "facevalues"
   ]
  },
  {
   "cell_type": "code",
   "execution_count": 33,
   "metadata": {},
   "outputs": [],
   "source": [
    "def calculate_points(cardface):\n",
    "    if type(cardface) is not str:\n",
    "        raise ValueError(\"input 'cardface' is not a string!\")\n",
    "    if cardface in [str(n) for n in range(2, 11)]:\n",
    "        return int(cardface)\n",
    "    elif cardface in ['J', 'Q', 'K']:\n",
    "        return 10\n",
    "    elif cardface == 'A':\n",
    "        return 11\n",
    "    else:\n",
    "        raise ValueError(\"input 'cardface' is not a valid card face!\")"
   ]
  },
  {
   "cell_type": "code",
   "execution_count": 68,
   "metadata": {},
   "outputs": [
    {
     "data": {
      "text/plain": [
       "11"
      ]
     },
     "execution_count": 68,
     "metadata": {},
     "output_type": "execute_result"
    }
   ],
   "source": [
    "calculate_points('A')"
   ]
  },
  {
   "cell_type": "code",
   "execution_count": 69,
   "metadata": {},
   "outputs": [
    {
     "data": {
      "text/plain": [
       "3"
      ]
     },
     "execution_count": 69,
     "metadata": {},
     "output_type": "execute_result"
    }
   ],
   "source": [
    "calculate_points('3')"
   ]
  },
  {
   "cell_type": "code",
   "execution_count": 70,
   "metadata": {},
   "outputs": [
    {
     "data": {
      "text/plain": [
       "{'2': 2,\n",
       " '3': 3,\n",
       " '4': 4,\n",
       " '5': 5,\n",
       " '6': 6,\n",
       " '7': 7,\n",
       " '8': 8,\n",
       " '9': 9,\n",
       " '10': 10,\n",
       " 'J': 10,\n",
       " 'Q': 10,\n",
       " 'K': 10,\n",
       " 'A': 11}"
      ]
     },
     "execution_count": 70,
     "metadata": {},
     "output_type": "execute_result"
    }
   ],
   "source": [
    "points = {facevalue:int(facevalue) for facevalue in facevalues[:9]}\n",
    "[points.update({facevalue:10 for facevalue in facevalues[9:]})]\n",
    "points.update({'A':11})\n",
    "points"
   ]
  },
  {
   "cell_type": "code",
   "execution_count": 71,
   "metadata": {},
   "outputs": [
    {
     "data": {
      "text/plain": [
       "11"
      ]
     },
     "execution_count": 71,
     "metadata": {},
     "output_type": "execute_result"
    }
   ],
   "source": [
    "points['A']"
   ]
  },
  {
   "cell_type": "code",
   "execution_count": 72,
   "metadata": {},
   "outputs": [
    {
     "data": {
      "text/plain": [
       "3"
      ]
     },
     "execution_count": 72,
     "metadata": {},
     "output_type": "execute_result"
    }
   ],
   "source": [
    "points['3']"
   ]
  },
  {
   "cell_type": "code",
   "execution_count": null,
   "metadata": {},
   "outputs": [],
   "source": []
  },
  {
   "cell_type": "code",
   "execution_count": 37,
   "metadata": {},
   "outputs": [
    {
     "data": {
      "text/plain": [
       "['Spades', 'Clubs', 'Diamonds', 'Hearts']"
      ]
     },
     "execution_count": 37,
     "metadata": {},
     "output_type": "execute_result"
    }
   ],
   "source": [
    "suits = ['Spades','Clubs','Diamonds','Hearts']\n",
    "suits"
   ]
  },
  {
   "cell_type": "code",
   "execution_count": 73,
   "metadata": {},
   "outputs": [],
   "source": [
    "deck = []\n",
    "for suit in suits:\n",
    "    for value in facevalues:\n",
    "        deck.append(\n",
    "        (suit,value)\n",
    "        )"
   ]
  },
  {
   "cell_type": "code",
   "execution_count": 74,
   "metadata": {},
   "outputs": [
    {
     "data": {
      "text/plain": [
       "[('Spades', '2'),\n",
       " ('Spades', '3'),\n",
       " ('Spades', '4'),\n",
       " ('Spades', '5'),\n",
       " ('Spades', '6'),\n",
       " ('Spades', '7'),\n",
       " ('Spades', '8'),\n",
       " ('Spades', '9'),\n",
       " ('Spades', '10'),\n",
       " ('Spades', 'J'),\n",
       " ('Spades', 'Q'),\n",
       " ('Spades', 'K'),\n",
       " ('Spades', 'A'),\n",
       " ('Clubs', '2'),\n",
       " ('Clubs', '3'),\n",
       " ('Clubs', '4'),\n",
       " ('Clubs', '5'),\n",
       " ('Clubs', '6'),\n",
       " ('Clubs', '7'),\n",
       " ('Clubs', '8'),\n",
       " ('Clubs', '9'),\n",
       " ('Clubs', '10'),\n",
       " ('Clubs', 'J'),\n",
       " ('Clubs', 'Q'),\n",
       " ('Clubs', 'K'),\n",
       " ('Clubs', 'A'),\n",
       " ('Diamonds', '2'),\n",
       " ('Diamonds', '3'),\n",
       " ('Diamonds', '4'),\n",
       " ('Diamonds', '5'),\n",
       " ('Diamonds', '6'),\n",
       " ('Diamonds', '7'),\n",
       " ('Diamonds', '8'),\n",
       " ('Diamonds', '9'),\n",
       " ('Diamonds', '10'),\n",
       " ('Diamonds', 'J'),\n",
       " ('Diamonds', 'Q'),\n",
       " ('Diamonds', 'K'),\n",
       " ('Diamonds', 'A'),\n",
       " ('Hearts', '2'),\n",
       " ('Hearts', '3'),\n",
       " ('Hearts', '4'),\n",
       " ('Hearts', '5'),\n",
       " ('Hearts', '6'),\n",
       " ('Hearts', '7'),\n",
       " ('Hearts', '8'),\n",
       " ('Hearts', '9'),\n",
       " ('Hearts', '10'),\n",
       " ('Hearts', 'J'),\n",
       " ('Hearts', 'Q'),\n",
       " ('Hearts', 'K'),\n",
       " ('Hearts', 'A')]"
      ]
     },
     "execution_count": 74,
     "metadata": {},
     "output_type": "execute_result"
    }
   ],
   "source": [
    "deck"
   ]
  },
  {
   "cell_type": "code",
   "execution_count": 82,
   "metadata": {},
   "outputs": [
    {
     "name": "stdout",
     "output_type": "stream",
     "text": [
      "('Spades', '2') has value of 2\n",
      "('Spades', '3') has value of 3\n",
      "('Spades', '4') has value of 4\n",
      "('Spades', '5') has value of 5\n",
      "('Spades', '6') has value of 6\n",
      "('Spades', '7') has value of 7\n",
      "('Spades', '8') has value of 8\n",
      "('Spades', '9') has value of 9\n",
      "('Spades', '10') has value of 10\n",
      "('Spades', 'J') has value of 10\n",
      "('Spades', 'Q') has value of 10\n",
      "('Spades', 'K') has value of 10\n",
      "('Spades', 'A') has value of 11\n",
      "('Clubs', '2') has value of 2\n",
      "('Clubs', '3') has value of 3\n",
      "('Clubs', '4') has value of 4\n",
      "('Clubs', '5') has value of 5\n",
      "('Clubs', '6') has value of 6\n",
      "('Clubs', '7') has value of 7\n",
      "('Clubs', '8') has value of 8\n",
      "('Clubs', '9') has value of 9\n",
      "('Clubs', '10') has value of 10\n",
      "('Clubs', 'J') has value of 10\n",
      "('Clubs', 'Q') has value of 10\n",
      "('Clubs', 'K') has value of 10\n",
      "('Clubs', 'A') has value of 11\n",
      "('Diamonds', '2') has value of 2\n",
      "('Diamonds', '3') has value of 3\n",
      "('Diamonds', '4') has value of 4\n",
      "('Diamonds', '5') has value of 5\n",
      "('Diamonds', '6') has value of 6\n",
      "('Diamonds', '7') has value of 7\n",
      "('Diamonds', '8') has value of 8\n",
      "('Diamonds', '9') has value of 9\n",
      "('Diamonds', '10') has value of 10\n",
      "('Diamonds', 'J') has value of 10\n",
      "('Diamonds', 'Q') has value of 10\n",
      "('Diamonds', 'K') has value of 10\n",
      "('Diamonds', 'A') has value of 11\n",
      "('Hearts', '2') has value of 2\n",
      "('Hearts', '3') has value of 3\n",
      "('Hearts', '4') has value of 4\n",
      "('Hearts', '5') has value of 5\n",
      "('Hearts', '6') has value of 6\n",
      "('Hearts', '7') has value of 7\n",
      "('Hearts', '8') has value of 8\n",
      "('Hearts', '9') has value of 9\n",
      "('Hearts', '10') has value of 10\n",
      "('Hearts', 'J') has value of 10\n",
      "('Hearts', 'Q') has value of 10\n",
      "('Hearts', 'K') has value of 10\n",
      "('Hearts', 'A') has value of 11\n"
     ]
    }
   ],
   "source": [
    "for card in deck:\n",
    "    print(\"{card} has value of {points}\".format(\n",
    "        card=card,points=calculate_points(card[1])\n",
    "    ))"
   ]
  },
  {
   "cell_type": "markdown",
   "metadata": {},
   "source": [
    "note: we aren't getting the right balue. An Ace is either 1 or 11 points, depending on if it would put the hand over 21. "
   ]
  },
  {
   "cell_type": "markdown",
   "metadata": {},
   "source": [
    "# Dealing Cards"
   ]
  },
  {
   "cell_type": "code",
   "execution_count": 100,
   "metadata": {},
   "outputs": [],
   "source": [
    "dealerhand = []\n",
    "playerhand = []\n",
    "# we'll need lists to hold the dealer and player hands\n",
    "\n",
    "# deal a single card\n",
    "card = deck.pop()\n",
    "dealerhand.append(card)\n",
    "\n",
    "card = deck.pop()\n",
    "dealerhand.append(card)\n",
    "\n",
    "card = deck.pop()\n",
    "playerhand.append(card)\n",
    "\n",
    "card = deck.pop()\n",
    "playerhand.append(card)"
   ]
  },
  {
   "cell_type": "code",
   "execution_count": 50,
   "metadata": {},
   "outputs": [
    {
     "data": {
      "text/plain": [
       "[('Hearts', 'A'), ('Hearts', 'K')]"
      ]
     },
     "execution_count": 50,
     "metadata": {},
     "output_type": "execute_result"
    }
   ],
   "source": [
    "dealerhand"
   ]
  },
  {
   "cell_type": "code",
   "execution_count": 49,
   "metadata": {},
   "outputs": [
    {
     "data": {
      "text/plain": [
       "[('Hearts', 'Q'), ('Hearts', 'J')]"
      ]
     },
     "execution_count": 49,
     "metadata": {},
     "output_type": "execute_result"
    }
   ],
   "source": [
    "playerhand"
   ]
  },
  {
   "cell_type": "markdown",
   "metadata": {},
   "source": [
    "note: the list.pop() method removes the top item in the list and returns it"
   ]
  },
  {
   "cell_type": "code",
   "execution_count": 58,
   "metadata": {},
   "outputs": [
    {
     "data": {
      "text/plain": [
       "('Hearts', 3)"
      ]
     },
     "execution_count": 58,
     "metadata": {},
     "output_type": "execute_result"
    }
   ],
   "source": [
    "deck.pop()"
   ]
  },
  {
   "cell_type": "markdown",
   "metadata": {},
   "source": [
    "Our deck is no a few cards. Since we didn't catch the returned items, they are gone. (Above we saved them to the 'card' variable, and appended them to another list.)"
   ]
  },
  {
   "cell_type": "code",
   "execution_count": 59,
   "metadata": {},
   "outputs": [
    {
     "data": {
      "text/plain": [
       "[('Spades', 2),\n",
       " ('Spades', 3),\n",
       " ('Spades', 4),\n",
       " ('Spades', 5),\n",
       " ('Spades', 6),\n",
       " ('Spades', 7),\n",
       " ('Spades', 8),\n",
       " ('Spades', 9),\n",
       " ('Spades', 10),\n",
       " ('Spades', 'J'),\n",
       " ('Spades', 'Q'),\n",
       " ('Spades', 'K'),\n",
       " ('Spades', 'A'),\n",
       " ('Clubs', 2),\n",
       " ('Clubs', 3),\n",
       " ('Clubs', 4),\n",
       " ('Clubs', 5),\n",
       " ('Clubs', 6),\n",
       " ('Clubs', 7),\n",
       " ('Clubs', 8),\n",
       " ('Clubs', 9),\n",
       " ('Clubs', 10),\n",
       " ('Clubs', 'J'),\n",
       " ('Clubs', 'Q'),\n",
       " ('Clubs', 'K'),\n",
       " ('Clubs', 'A'),\n",
       " ('Diamonds', 2),\n",
       " ('Diamonds', 3),\n",
       " ('Diamonds', 4),\n",
       " ('Diamonds', 5),\n",
       " ('Diamonds', 6),\n",
       " ('Diamonds', 7),\n",
       " ('Diamonds', 8),\n",
       " ('Diamonds', 9),\n",
       " ('Diamonds', 10),\n",
       " ('Diamonds', 'J'),\n",
       " ('Diamonds', 'Q'),\n",
       " ('Diamonds', 'K'),\n",
       " ('Diamonds', 'A'),\n",
       " ('Hearts', 2)]"
      ]
     },
     "execution_count": 59,
     "metadata": {},
     "output_type": "execute_result"
    }
   ],
   "source": [
    "deck"
   ]
  },
  {
   "cell_type": "markdown",
   "metadata": {},
   "source": [
    "# Class Exercise\n",
    "Figure out how to shuffle the deck."
   ]
  },
  {
   "cell_type": "code",
   "execution_count": null,
   "metadata": {},
   "outputs": [],
   "source": []
  },
  {
   "cell_type": "markdown",
   "metadata": {},
   "source": [
    "# Shuffling the Deck"
   ]
  },
  {
   "cell_type": "code",
   "execution_count": 95,
   "metadata": {},
   "outputs": [
    {
     "data": {
      "text/plain": [
       "[('Spades', 'K'),\n",
       " ('Spades', '3'),\n",
       " ('Diamonds', '7'),\n",
       " ('Hearts', '7'),\n",
       " ('Hearts', 'K'),\n",
       " ('Spades', 'A'),\n",
       " ('Spades', '7'),\n",
       " ('Clubs', '5'),\n",
       " ('Diamonds', '3'),\n",
       " ('Spades', '5'),\n",
       " ('Spades', '10'),\n",
       " ('Hearts', '10'),\n",
       " ('Spades', 'J'),\n",
       " ('Spades', '4'),\n",
       " ('Hearts', '5'),\n",
       " ('Diamonds', '8'),\n",
       " ('Hearts', 'Q'),\n",
       " ('Clubs', '10'),\n",
       " ('Spades', '8'),\n",
       " ('Clubs', '9'),\n",
       " ('Spades', '2'),\n",
       " ('Clubs', 'K'),\n",
       " ('Hearts', '8'),\n",
       " ('Clubs', '3'),\n",
       " ('Hearts', '2'),\n",
       " ('Spades', 'Q'),\n",
       " ('Clubs', '6'),\n",
       " ('Diamonds', 'Q'),\n",
       " ('Clubs', '7'),\n",
       " ('Diamonds', 'K'),\n",
       " ('Hearts', '6'),\n",
       " ('Clubs', '8'),\n",
       " ('Diamonds', '2'),\n",
       " ('Clubs', 'A'),\n",
       " ('Spades', '9'),\n",
       " ('Diamonds', '4'),\n",
       " ('Diamonds', 'A'),\n",
       " ('Hearts', 'J'),\n",
       " ('Hearts', 'A'),\n",
       " ('Spades', '6'),\n",
       " ('Clubs', 'J'),\n",
       " ('Hearts', '4'),\n",
       " ('Clubs', '4'),\n",
       " ('Hearts', '3'),\n",
       " ('Diamonds', '6'),\n",
       " ('Hearts', '9'),\n",
       " ('Diamonds', 'J'),\n",
       " ('Diamonds', '9'),\n",
       " ('Diamonds', '5'),\n",
       " ('Diamonds', '10'),\n",
       " ('Clubs', 'Q'),\n",
       " ('Clubs', '2')]"
      ]
     },
     "execution_count": 95,
     "metadata": {},
     "output_type": "execute_result"
    }
   ],
   "source": [
    "import random\n",
    "random.shuffle(deck)\n",
    "deck"
   ]
  },
  {
   "cell_type": "code",
   "execution_count": 96,
   "metadata": {},
   "outputs": [
    {
     "data": {
      "text/plain": [
       "('Clubs', '2')"
      ]
     },
     "execution_count": 96,
     "metadata": {},
     "output_type": "execute_result"
    }
   ],
   "source": [
    "deck.pop()"
   ]
  },
  {
   "cell_type": "code",
   "execution_count": 97,
   "metadata": {},
   "outputs": [
    {
     "data": {
      "text/plain": [
       "('Clubs', 'Q')"
      ]
     },
     "execution_count": 97,
     "metadata": {},
     "output_type": "execute_result"
    }
   ],
   "source": [
    "deck.pop()"
   ]
  },
  {
   "cell_type": "code",
   "execution_count": 98,
   "metadata": {},
   "outputs": [
    {
     "data": {
      "text/plain": [
       "('Diamonds', '10')"
      ]
     },
     "execution_count": 98,
     "metadata": {},
     "output_type": "execute_result"
    }
   ],
   "source": [
    "deck.pop()"
   ]
  },
  {
   "cell_type": "code",
   "execution_count": 99,
   "metadata": {},
   "outputs": [
    {
     "data": {
      "text/plain": [
       "('Diamonds', '5')"
      ]
     },
     "execution_count": 99,
     "metadata": {},
     "output_type": "execute_result"
    }
   ],
   "source": [
    "deck.pop()"
   ]
  },
  {
   "cell_type": "markdown",
   "metadata": {},
   "source": [
    "# Calculating the value of a hand"
   ]
  },
  {
   "cell_type": "code",
   "execution_count": 101,
   "metadata": {},
   "outputs": [
    {
     "data": {
      "text/plain": [
       "[('Hearts', 'Q'), ('Hearts', 'K'), ('Hearts', 'A')]"
      ]
     },
     "execution_count": 101,
     "metadata": {},
     "output_type": "execute_result"
    }
   ],
   "source": [
    "myhand = [('Hearts', 'Q'),\n",
    "('Hearts', 'K'),\n",
    "('Hearts', 'A')]\n",
    "myhand"
   ]
  },
  {
   "cell_type": "code",
   "execution_count": 102,
   "metadata": {},
   "outputs": [
    {
     "data": {
      "text/plain": [
       "31"
      ]
     },
     "execution_count": 102,
     "metadata": {},
     "output_type": "execute_result"
    }
   ],
   "source": [
    "hand_value = 0\n",
    "for card in myhand:\n",
    "    hand_value += calculate_points(card[1])\n",
    "hand_value"
   ]
  },
  {
   "cell_type": "code",
   "execution_count": null,
   "metadata": {},
   "outputs": [],
   "source": []
  },
  {
   "cell_type": "markdown",
   "metadata": {},
   "source": [
    "# Class Exercise\n",
    "\n",
    "Figure out how to modify our calculator to correctly evaluate the points a hand is worth."
   ]
  },
  {
   "cell_type": "code",
   "execution_count": 103,
   "metadata": {},
   "outputs": [
    {
     "data": {
      "text/plain": [
       "[('Hearts', 'Q'), ('Hearts', 'K'), ('Hearts', 'A')]"
      ]
     },
     "execution_count": 103,
     "metadata": {},
     "output_type": "execute_result"
    }
   ],
   "source": [
    "myhand"
   ]
  },
  {
   "cell_type": "code",
   "execution_count": 107,
   "metadata": {},
   "outputs": [
    {
     "data": {
      "text/plain": [
       "21"
      ]
     },
     "execution_count": 107,
     "metadata": {},
     "output_type": "execute_result"
    }
   ],
   "source": [
    "hand_value = 0\n",
    "aces_count = 0\n",
    "for card in myhand:\n",
    "    hand_value += calculate_points(card[1])\n",
    "    \n",
    "    #count the aces\n",
    "    if card[1] == 'A':\n",
    "        aces_count += 1\n",
    "    \n",
    "#for each ace\n",
    "for i in range(aces_count):\n",
    "    if hand_value > 21:\n",
    "        # if over 21, deduct 10\n",
    "        hand_value -= 10\n",
    "hand_value"
   ]
  },
  {
   "cell_type": "code",
   "execution_count": null,
   "metadata": {},
   "outputs": [],
   "source": []
  }
 ],
 "metadata": {
  "kernelspec": {
   "display_name": "Python 3",
   "language": "python",
   "name": "python3"
  },
  "language_info": {
   "codemirror_mode": {
    "name": "ipython",
    "version": 3
   },
   "file_extension": ".py",
   "mimetype": "text/x-python",
   "name": "python",
   "nbconvert_exporter": "python",
   "pygments_lexer": "ipython3",
   "version": "3.7.4"
  }
 },
 "nbformat": 4,
 "nbformat_minor": 2
}
