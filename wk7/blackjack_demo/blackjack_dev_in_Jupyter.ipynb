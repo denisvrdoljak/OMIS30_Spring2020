{
 "cells": [
  {
   "cell_type": "code",
   "execution_count": 1,
   "metadata": {},
   "outputs": [
    {
     "name": "stdout",
     "output_type": "stream",
     "text": [
      "Welcome to the BlackJack table! Please enter a name to play: Denis\n",
      "Would you like to play the next hand?\n",
      "[Enter] to play, 'q' to quit: q\n",
      "Thank you for playing.\n",
      "You left with $1000.\n",
      "Quitting...\n"
     ]
    }
   ],
   "source": [
    "from blackjack import Player,BlackJackTable,Boot\n",
    "import os\n",
    "\n",
    "if __name__ == \"__main__\":\n",
    "    # setup\n",
    "    table = BlackJackTable()\n",
    "    boot = Boot(6)\n",
    "    table.loadboot(boot)\n",
    "    dealer = Player('Janet',dealer=True)\n",
    "    table.assigndealer(dealer)\n",
    "\n",
    "    # Clear stdout\n",
    "    os.system('cls' if os.name == 'nt' else 'clear')\n",
    "\n",
    "    # Get player name\n",
    "    name = input(\"Welcome to the BlackJack table! Please enter a name to play: \")\n",
    "    if name == '':\n",
    "        name = 'Bob'\n",
    "        print(\"Ok, we'll just call you 'Bob' for now.\")\n",
    "    player = Player(name)\n",
    "    player.set_showhand() # single player mode, so show hand\n",
    "    table.sit_at_table(player)\n",
    "    \n",
    "    # Game Begins\n",
    "    while True:\n",
    "        playagain = input(\"Would you like to play the next hand?\\n[Enter] to play, 'q' to quit: \")\n",
    "        os.system('cls' if os.name == 'nt' else 'clear')\n",
    "        \n",
    "        if (playagain+' ')[0].lower() == 'q':\n",
    "            print(\"Thank you for playing.\\nYou left with ${}.\\nQuitting...\".format(player.get_moneyamount()))\n",
    "            break\n",
    "        elif player.get_moneyamount() <= 0:\n",
    "            print(\"You are out of money.\\nQuitting...\")\n",
    "            break\n",
    "\n",
    "        table.user_bet(player)\n",
    "        \n",
    "        table.deal_cards()\n",
    "        table.userplay(player)\n",
    "\n",
    "        table.dealer.set_showhand()\n",
    "        table.dealerplay()\n",
    "\n",
    "        print(table)\n",
    "\n",
    "        table.evaluate()\n",
    "        table.dealer.set_hidehand()\n",
    "    \n",
    "\n"
   ]
  },
  {
   "cell_type": "code",
   "execution_count": null,
   "metadata": {},
   "outputs": [],
   "source": []
  }
 ],
 "metadata": {
  "kernelspec": {
   "display_name": "Python 3",
   "language": "python",
   "name": "python3"
  },
  "language_info": {
   "codemirror_mode": {
    "name": "ipython",
    "version": 3
   },
   "file_extension": ".py",
   "mimetype": "text/x-python",
   "name": "python",
   "nbconvert_exporter": "python",
   "pygments_lexer": "ipython3",
   "version": "3.7.4"
  }
 },
 "nbformat": 4,
 "nbformat_minor": 2
}
