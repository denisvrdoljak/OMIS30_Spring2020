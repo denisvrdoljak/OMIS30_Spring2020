{
 "cells": [
  {
   "cell_type": "code",
   "execution_count": 9,
   "metadata": {},
   "outputs": [],
   "source": [
    "myhand = ['AceHearts','FourSpades']\n",
    "\n",
    "myhand2 = ['AceHearts','FourSpades','JackDiamonds','FiveSpades']"
   ]
  },
  {
   "cell_type": "code",
   "execution_count": 10,
   "metadata": {},
   "outputs": [
    {
     "data": {
      "text/plain": [
       "['AceHearts', 'FourSpades']"
      ]
     },
     "execution_count": 10,
     "metadata": {},
     "output_type": "execute_result"
    }
   ],
   "source": [
    "myhand"
   ]
  },
  {
   "cell_type": "code",
   "execution_count": 11,
   "metadata": {},
   "outputs": [
    {
     "name": "stdout",
     "output_type": "stream",
     "text": [
      "Dealer hand is: AceHearts FourSpades \n"
     ]
    }
   ],
   "source": [
    "print(\"Dealer hand is: \",end='')\n",
    "for card in myhand:\n",
    "    print(card,end=' ')\n",
    "print()"
   ]
  },
  {
   "cell_type": "code",
   "execution_count": 12,
   "metadata": {},
   "outputs": [
    {
     "name": "stdout",
     "output_type": "stream",
     "text": [
      "Dealer hand is: **** FourSpades \n"
     ]
    }
   ],
   "source": [
    "print(\"Dealer hand is: \",end='')\n",
    "print(\"****\",end=' ')\n",
    "for card in myhand[1:]:\n",
    "    print(card,end=' ')\n",
    "print()"
   ]
  },
  {
   "cell_type": "code",
   "execution_count": 13,
   "metadata": {},
   "outputs": [
    {
     "name": "stdout",
     "output_type": "stream",
     "text": [
      "Dealer hand is: **** FourSpades JackDiamonds FiveSpades \n"
     ]
    }
   ],
   "source": [
    "print(\"Dealer hand is: \",end='')\n",
    "print(\"****\",end=' ')\n",
    "for card in myhand2[1:]:\n",
    "    print(card,end=' ')\n",
    "print()"
   ]
  },
  {
   "cell_type": "code",
   "execution_count": 17,
   "metadata": {},
   "outputs": [
    {
     "name": "stdout",
     "output_type": "stream",
     "text": [
      "Dealer hand is: ** FourSpades \n"
     ]
    }
   ],
   "source": [
    "dealerhand_hidden_PRINTABLE = [\"**\"] + myhand[1:]\n",
    "print(\"Dealer hand is: \",end='')\n",
    "for card in dealerhand_hidden_PRINTABLE:\n",
    "    print(card,end=' ')\n",
    "print()"
   ]
  },
  {
   "cell_type": "code",
   "execution_count": null,
   "metadata": {},
   "outputs": [],
   "source": []
  },
  {
   "cell_type": "code",
   "execution_count": 19,
   "metadata": {},
   "outputs": [],
   "source": [
    "card = ('Ace','Spades')\n",
    "card2 = ('Queen','Hearts')\n",
    "\n",
    "myhand = [card,card2]"
   ]
  },
  {
   "cell_type": "code",
   "execution_count": 20,
   "metadata": {},
   "outputs": [
    {
     "data": {
      "text/plain": [
       "[('Ace', 'Spades'), ('Queen', 'Hearts')]"
      ]
     },
     "execution_count": 20,
     "metadata": {},
     "output_type": "execute_result"
    }
   ],
   "source": [
    "myhand"
   ]
  },
  {
   "cell_type": "code",
   "execution_count": 27,
   "metadata": {},
   "outputs": [
    {
     "name": "stdout",
     "output_type": "stream",
     "text": [
      "Dealer hand is: Ace:Spades - Queen:Hearts - \n"
     ]
    }
   ],
   "source": [
    "print(\"Dealer hand is: \",end='')\n",
    "for card in myhand:\n",
    "    print(\"{facevalue}:{suit}\".format(facevalue=card[0],suit=card[1]),end=' - ')\n",
    "print()"
   ]
  },
  {
   "cell_type": "code",
   "execution_count": 30,
   "metadata": {},
   "outputs": [
    {
     "data": {
      "text/plain": [
       "('Queen', 'Hearts')"
      ]
     },
     "execution_count": 30,
     "metadata": {},
     "output_type": "execute_result"
    }
   ],
   "source": [
    "myhand[1]"
   ]
  },
  {
   "cell_type": "code",
   "execution_count": 31,
   "metadata": {},
   "outputs": [
    {
     "data": {
      "text/plain": [
       "'Queen'"
      ]
     },
     "execution_count": 31,
     "metadata": {},
     "output_type": "execute_result"
    }
   ],
   "source": [
    "myhand[1][0]"
   ]
  },
  {
   "cell_type": "code",
   "execution_count": 32,
   "metadata": {},
   "outputs": [],
   "source": [
    "myhand = [2,5,11,11,10] #19\n",
    "myhand2 = [2,5,11,11] #19"
   ]
  },
  {
   "cell_type": "code",
   "execution_count": 33,
   "metadata": {},
   "outputs": [
    {
     "name": "stdout",
     "output_type": "stream",
     "text": [
      "19\n"
     ]
    }
   ],
   "source": [
    "handvalue = 0\n",
    "countaces = 0\n",
    "for cardvalue in myhand:\n",
    "    handvalue += cardvalue\n",
    "    if cardvalue == 11:\n",
    "        countaces += 1\n",
    "for i in range(countaces):\n",
    "    if handvalue > 21:\n",
    "        handvalue -= 10\n",
    "print(handvalue)"
   ]
  },
  {
   "cell_type": "code",
   "execution_count": 34,
   "metadata": {},
   "outputs": [
    {
     "name": "stdout",
     "output_type": "stream",
     "text": [
      "19\n"
     ]
    }
   ],
   "source": [
    "handvalue = 0\n",
    "countaces = 0\n",
    "for cardvalue in myhand2:\n",
    "    handvalue += cardvalue\n",
    "    if cardvalue == 11:\n",
    "        countaces += 1\n",
    "for i in range(countaces):\n",
    "    if handvalue > 21:\n",
    "        handvalue -= 10\n",
    "print(handvalue)"
   ]
  },
  {
   "cell_type": "code",
   "execution_count": null,
   "metadata": {},
   "outputs": [],
   "source": []
  }
 ],
 "metadata": {
  "kernelspec": {
   "display_name": "Python 3",
   "language": "python",
   "name": "python3"
  },
  "language_info": {
   "codemirror_mode": {
    "name": "ipython",
    "version": 3
   },
   "file_extension": ".py",
   "mimetype": "text/x-python",
   "name": "python",
   "nbconvert_exporter": "python",
   "pygments_lexer": "ipython3",
   "version": "3.7.4"
  }
 },
 "nbformat": 4,
 "nbformat_minor": 2
}
